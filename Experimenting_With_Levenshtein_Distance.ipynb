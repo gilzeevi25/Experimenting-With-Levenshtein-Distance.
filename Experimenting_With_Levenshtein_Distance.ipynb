{
  "nbformat": 4,
  "nbformat_minor": 0,
  "metadata": {
    "colab": {
      "name": "Experimenting With Levenshtein Distance.ipynb",
      "provenance": [],
      "collapsed_sections": []
    },
    "kernelspec": {
      "name": "python3",
      "display_name": "Python 3"
    },
    "language_info": {
      "name": "python"
    }
  },
  "cells": [
    {
      "cell_type": "markdown",
      "metadata": {
        "id": "LLJ8ZCs1BSvA"
      },
      "source": [
        "# Experimenting With Levenshtein Distance\n",
        "\n",
        "---\n",
        "\n"
      ]
    },
    {
      "cell_type": "code",
      "metadata": {
        "id": "_bejWGAgtr7W"
      },
      "source": [
        "import numpy as np\n",
        "import pandas as pd \n",
        "!pip install names\n",
        "import names\n",
        "from random import randint, randrange, seed\n",
        "!pip install python-levenshtein\n",
        "import Levenshtein"
      ],
      "execution_count": null,
      "outputs": []
    },
    {
      "cell_type": "markdown",
      "metadata": {
        "id": "nyx-dScKBjfA"
      },
      "source": [
        "#### Firstly, lets create some random names and ID's<br> and transform them into a dataframe, denoted as GT(ground truth):\n",
        "\n"
      ]
    },
    {
      "cell_type": "code",
      "metadata": {
        "colab": {
          "base_uri": "https://localhost:8080/",
          "height": 363
        },
        "id": "IjN9rwvvt0LJ",
        "outputId": "a65dfc66-1d3c-423c-fce4-e3ae435d7f0b"
      },
      "source": [
        "seed(10)\n",
        "data = {'Full_Name':[],'ID':[]}\n",
        "for i in range(10):\n",
        "    data['Full_Name'].append(names.get_full_name())\n",
        "    data['ID'].append(''.join([\"{}\".format(randint(0, 9)) for num in range(0, 9)]))\n",
        "GT = pd.DataFrame(data)\n",
        "GT "
      ],
      "execution_count": null,
      "outputs": [
        {
          "output_type": "execute_result",
          "data": {
            "text/html": [
              "<div>\n",
              "<style scoped>\n",
              "    .dataframe tbody tr th:only-of-type {\n",
              "        vertical-align: middle;\n",
              "    }\n",
              "\n",
              "    .dataframe tbody tr th {\n",
              "        vertical-align: top;\n",
              "    }\n",
              "\n",
              "    .dataframe thead th {\n",
              "        text-align: right;\n",
              "    }\n",
              "</style>\n",
              "<table border=\"1\" class=\"dataframe\">\n",
              "  <thead>\n",
              "    <tr style=\"text-align: right;\">\n",
              "      <th></th>\n",
              "      <th>Full_Name</th>\n",
              "      <th>ID</th>\n",
              "    </tr>\n",
              "  </thead>\n",
              "  <tbody>\n",
              "    <tr>\n",
              "      <th>0</th>\n",
              "      <td>Frank Huang</td>\n",
              "      <td>377420875</td>\n",
              "    </tr>\n",
              "    <tr>\n",
              "      <th>1</th>\n",
              "      <td>Thomas Twehous</td>\n",
              "      <td>506295664</td>\n",
              "    </tr>\n",
              "    <tr>\n",
              "      <th>2</th>\n",
              "      <td>Lois Tibbetts</td>\n",
              "      <td>527379609</td>\n",
              "    </tr>\n",
              "    <tr>\n",
              "      <th>3</th>\n",
              "      <td>Joseph Long</td>\n",
              "      <td>485358767</td>\n",
              "    </tr>\n",
              "    <tr>\n",
              "      <th>4</th>\n",
              "      <td>Johnny Fletcher</td>\n",
              "      <td>823630074</td>\n",
              "    </tr>\n",
              "    <tr>\n",
              "      <th>5</th>\n",
              "      <td>Jack Carrozza</td>\n",
              "      <td>269592117</td>\n",
              "    </tr>\n",
              "    <tr>\n",
              "      <th>6</th>\n",
              "      <td>Leopoldo Coleman</td>\n",
              "      <td>566734298</td>\n",
              "    </tr>\n",
              "    <tr>\n",
              "      <th>7</th>\n",
              "      <td>Ross Hart</td>\n",
              "      <td>422275563</td>\n",
              "    </tr>\n",
              "    <tr>\n",
              "      <th>8</th>\n",
              "      <td>Justin Davis</td>\n",
              "      <td>531476926</td>\n",
              "    </tr>\n",
              "    <tr>\n",
              "      <th>9</th>\n",
              "      <td>Arlene Ramos</td>\n",
              "      <td>848797127</td>\n",
              "    </tr>\n",
              "  </tbody>\n",
              "</table>\n",
              "</div>"
            ],
            "text/plain": [
              "          Full_Name         ID\n",
              "0       Frank Huang  377420875\n",
              "1    Thomas Twehous  506295664\n",
              "2     Lois Tibbetts  527379609\n",
              "3       Joseph Long  485358767\n",
              "4   Johnny Fletcher  823630074\n",
              "5     Jack Carrozza  269592117\n",
              "6  Leopoldo Coleman  566734298\n",
              "7         Ross Hart  422275563\n",
              "8      Justin Davis  531476926\n",
              "9      Arlene Ramos  848797127"
            ]
          },
          "metadata": {},
          "execution_count": 57
        }
      ]
    },
    {
      "cell_type": "markdown",
      "metadata": {
        "id": "WeFQv9JICT1f"
      },
      "source": [
        "#### Lets create an input of sub-dataframe with some typos"
      ]
    },
    {
      "cell_type": "code",
      "metadata": {
        "colab": {
          "base_uri": "https://localhost:8080/",
          "height": 143
        },
        "id": "pozaSdXN_cqm",
        "outputId": "5b12f527-3d6d-4880-fe5e-9d65c612a7f9"
      },
      "source": [
        "input = pd.DataFrame({'Full_Name':['Jack Caroza','Leopoldo Coleman JR','John-Fletcher']})\n",
        "input"
      ],
      "execution_count": null,
      "outputs": [
        {
          "output_type": "execute_result",
          "data": {
            "text/html": [
              "<div>\n",
              "<style scoped>\n",
              "    .dataframe tbody tr th:only-of-type {\n",
              "        vertical-align: middle;\n",
              "    }\n",
              "\n",
              "    .dataframe tbody tr th {\n",
              "        vertical-align: top;\n",
              "    }\n",
              "\n",
              "    .dataframe thead th {\n",
              "        text-align: right;\n",
              "    }\n",
              "</style>\n",
              "<table border=\"1\" class=\"dataframe\">\n",
              "  <thead>\n",
              "    <tr style=\"text-align: right;\">\n",
              "      <th></th>\n",
              "      <th>Full_Name</th>\n",
              "    </tr>\n",
              "  </thead>\n",
              "  <tbody>\n",
              "    <tr>\n",
              "      <th>0</th>\n",
              "      <td>Jack Caroza</td>\n",
              "    </tr>\n",
              "    <tr>\n",
              "      <th>1</th>\n",
              "      <td>Leopoldo Coleman JR</td>\n",
              "    </tr>\n",
              "    <tr>\n",
              "      <th>2</th>\n",
              "      <td>John-Fletcher</td>\n",
              "    </tr>\n",
              "  </tbody>\n",
              "</table>\n",
              "</div>"
            ],
            "text/plain": [
              "             Full_Name\n",
              "0          Jack Caroza\n",
              "1  Leopoldo Coleman JR\n",
              "2        John-Fletcher"
            ]
          },
          "metadata": {},
          "execution_count": 51
        }
      ]
    },
    {
      "cell_type": "markdown",
      "metadata": {
        "id": "__92F567j_xd"
      },
      "source": [
        "### Now, i'll present the Levenshtein distance between all possible distance calculations"
      ]
    },
    {
      "cell_type": "code",
      "metadata": {
        "colab": {
          "base_uri": "https://localhost:8080/"
        },
        "id": "vNXhO11HCS9M",
        "outputId": "04713056-3957-4a6e-a63e-67d34e2018d3"
      },
      "source": [
        "dict_names = {name: [] for name in input.Full_Name.tolist()}\n",
        "out = []\n",
        "min= 20\n",
        "for string1 in dict_names.keys():\n",
        "  out = []\n",
        "  min= 20\n",
        "  for string2 in GT.Full_Name.tolist():\n",
        "    if Levenshtein.distance(string1, string2) <= min:\n",
        "      min = Levenshtein.distance(string1, string2)\n",
        "      out.append([string1, string2,min])\n",
        "    print(f'The distance between {string1} and {string2} is: {Levenshtein.distance(string1, string2)}')\n",
        "  i = -1\n",
        "  max = out[i][2]\n",
        "  while out[i][2] == max:\n",
        "    dict_names[out[i][0]].append(out[i][1])\n",
        "    i-=1\n",
        "# for key,val in zip(dict_names.keys(),dict_names.values()):\n",
        "#   print(f\"{key}: {val}\")\n",
        "#   print(\"#\"*50)"
      ],
      "execution_count": null,
      "outputs": [
        {
          "output_type": "stream",
          "name": "stdout",
          "text": [
            "The distance between Jack Caroza and Frank Huang is: 9\n",
            "The distance between Jack Caroza and Thomas Twehous is: 12\n",
            "The distance between Jack Caroza and Lois Tibbetts is: 12\n",
            "The distance between Jack Caroza and Joseph Long is: 9\n",
            "The distance between Jack Caroza and Johnny Fletcher is: 13\n",
            "The distance between Jack Caroza and Jack Carrozza is: 2\n",
            "The distance between Jack Caroza and Leopoldo Coleman is: 13\n",
            "The distance between Jack Caroza and Ross Hart is: 8\n",
            "The distance between Jack Caroza and Justin Davis is: 10\n",
            "The distance between Jack Caroza and Arlene Ramos is: 10\n",
            "The distance between Leopoldo Coleman JR and Frank Huang is: 16\n",
            "The distance between Leopoldo Coleman JR and Thomas Twehous is: 16\n",
            "The distance between Leopoldo Coleman JR and Lois Tibbetts is: 16\n",
            "The distance between Leopoldo Coleman JR and Joseph Long is: 15\n",
            "The distance between Leopoldo Coleman JR and Johnny Fletcher is: 15\n",
            "The distance between Leopoldo Coleman JR and Jack Carrozza is: 17\n",
            "The distance between Leopoldo Coleman JR and Leopoldo Coleman is: 3\n",
            "The distance between Leopoldo Coleman JR and Ross Hart is: 16\n",
            "The distance between Leopoldo Coleman JR and Justin Davis is: 17\n",
            "The distance between Leopoldo Coleman JR and Arlene Ramos is: 17\n",
            "The distance between John-Fletcher and Frank Huang is: 12\n",
            "The distance between John-Fletcher and Thomas Twehous is: 13\n",
            "The distance between John-Fletcher and Lois Tibbetts is: 12\n",
            "The distance between John-Fletcher and Joseph Long is: 11\n",
            "The distance between John-Fletcher and Johnny Fletcher is: 3\n",
            "The distance between John-Fletcher and Jack Carrozza is: 12\n",
            "The distance between John-Fletcher and Leopoldo Coleman is: 14\n",
            "The distance between John-Fletcher and Ross Hart is: 11\n",
            "The distance between John-Fletcher and Justin Davis is: 12\n",
            "The distance between John-Fletcher and Arlene Ramos is: 13\n"
          ]
        }
      ]
    },
    {
      "cell_type": "markdown",
      "metadata": {
        "id": "bQJn-7Azk1if"
      },
      "source": [
        "Finally, by minimizing the distance, i can bind between the input and the ground truth:"
      ]
    },
    {
      "cell_type": "code",
      "metadata": {
        "colab": {
          "base_uri": "https://localhost:8080/"
        },
        "id": "45nfAjAQi54D",
        "outputId": "df8290a1-0459-419c-8c0c-617e5d6ff156"
      },
      "source": [
        "print(\"#\"*50)\n",
        "for key,val in zip(dict_names.keys(),dict_names.values()):\n",
        "  print(f\"{key}: {val}\")\n",
        "  print(\"#\"*50)"
      ],
      "execution_count": null,
      "outputs": [
        {
          "output_type": "stream",
          "name": "stdout",
          "text": [
            "##################################################\n",
            "Jack Caroza: ['Jack Carrozza']\n",
            "##################################################\n",
            "Leopoldo Coleman JR: ['Leopoldo Coleman']\n",
            "##################################################\n",
            "John-Fletcher: ['Johnny Fletcher']\n",
            "##################################################\n"
          ]
        }
      ]
    },
    {
      "cell_type": "markdown",
      "metadata": {
        "id": "YAG2H_Mwlm6X"
      },
      "source": [
        "### After correcting the faulty inputs, i will extract the information i need on the input by joining the tables on the correct Name:"
      ]
    },
    {
      "cell_type": "code",
      "metadata": {
        "colab": {
          "base_uri": "https://localhost:8080/",
          "height": 143
        },
        "id": "I_6FFsnTmcKP",
        "outputId": "ffa408dc-a406-496c-904d-42e78da09461"
      },
      "source": [
        "input"
      ],
      "execution_count": null,
      "outputs": [
        {
          "output_type": "execute_result",
          "data": {
            "text/html": [
              "<div>\n",
              "<style scoped>\n",
              "    .dataframe tbody tr th:only-of-type {\n",
              "        vertical-align: middle;\n",
              "    }\n",
              "\n",
              "    .dataframe tbody tr th {\n",
              "        vertical-align: top;\n",
              "    }\n",
              "\n",
              "    .dataframe thead th {\n",
              "        text-align: right;\n",
              "    }\n",
              "</style>\n",
              "<table border=\"1\" class=\"dataframe\">\n",
              "  <thead>\n",
              "    <tr style=\"text-align: right;\">\n",
              "      <th></th>\n",
              "      <th>Full_Name</th>\n",
              "    </tr>\n",
              "  </thead>\n",
              "  <tbody>\n",
              "    <tr>\n",
              "      <th>0</th>\n",
              "      <td>Jack Caroza</td>\n",
              "    </tr>\n",
              "    <tr>\n",
              "      <th>1</th>\n",
              "      <td>Leopoldo Coleman JR</td>\n",
              "    </tr>\n",
              "    <tr>\n",
              "      <th>2</th>\n",
              "      <td>John-Fletcher</td>\n",
              "    </tr>\n",
              "  </tbody>\n",
              "</table>\n",
              "</div>"
            ],
            "text/plain": [
              "             Full_Name\n",
              "0          Jack Caroza\n",
              "1  Leopoldo Coleman JR\n",
              "2        John-Fletcher"
            ]
          },
          "metadata": {},
          "execution_count": 68
        }
      ]
    },
    {
      "cell_type": "code",
      "metadata": {
        "colab": {
          "base_uri": "https://localhost:8080/",
          "height": 143
        },
        "id": "K933rgQsnQFN",
        "outputId": "d68346d5-a036-4b84-9b37-54c4d4f185f5"
      },
      "source": [
        "df = input.apply(lambda row:dict_names[row['Full_Name']][0], axis=1).reset_index()\n",
        "df.columns = ['0','Full_Name']; df.drop('0',axis = 1,inplace = True)\n",
        "df"
      ],
      "execution_count": null,
      "outputs": [
        {
          "output_type": "execute_result",
          "data": {
            "text/html": [
              "<div>\n",
              "<style scoped>\n",
              "    .dataframe tbody tr th:only-of-type {\n",
              "        vertical-align: middle;\n",
              "    }\n",
              "\n",
              "    .dataframe tbody tr th {\n",
              "        vertical-align: top;\n",
              "    }\n",
              "\n",
              "    .dataframe thead th {\n",
              "        text-align: right;\n",
              "    }\n",
              "</style>\n",
              "<table border=\"1\" class=\"dataframe\">\n",
              "  <thead>\n",
              "    <tr style=\"text-align: right;\">\n",
              "      <th></th>\n",
              "      <th>Full_Name</th>\n",
              "    </tr>\n",
              "  </thead>\n",
              "  <tbody>\n",
              "    <tr>\n",
              "      <th>0</th>\n",
              "      <td>Jack Carrozza</td>\n",
              "    </tr>\n",
              "    <tr>\n",
              "      <th>1</th>\n",
              "      <td>Leopoldo Coleman</td>\n",
              "    </tr>\n",
              "    <tr>\n",
              "      <th>2</th>\n",
              "      <td>Johnny Fletcher</td>\n",
              "    </tr>\n",
              "  </tbody>\n",
              "</table>\n",
              "</div>"
            ],
            "text/plain": [
              "          Full_Name\n",
              "0     Jack Carrozza\n",
              "1  Leopoldo Coleman\n",
              "2   Johnny Fletcher"
            ]
          },
          "metadata": {},
          "execution_count": 89
        }
      ]
    },
    {
      "cell_type": "markdown",
      "metadata": {
        "id": "T-2DSAYXpQ42"
      },
      "source": [
        "# Now, finally we can get the corresponding ID's for the fixed input:"
      ]
    },
    {
      "cell_type": "code",
      "metadata": {
        "colab": {
          "base_uri": "https://localhost:8080/",
          "height": 143
        },
        "id": "6ZRhj5Gwolo8",
        "outputId": "a7e50741-d879-460e-f95c-9a6c5e643f53"
      },
      "source": [
        "df.join(GT.set_index('Full_Name'),on = ['Full_Name'])\n"
      ],
      "execution_count": null,
      "outputs": [
        {
          "output_type": "execute_result",
          "data": {
            "text/html": [
              "<div>\n",
              "<style scoped>\n",
              "    .dataframe tbody tr th:only-of-type {\n",
              "        vertical-align: middle;\n",
              "    }\n",
              "\n",
              "    .dataframe tbody tr th {\n",
              "        vertical-align: top;\n",
              "    }\n",
              "\n",
              "    .dataframe thead th {\n",
              "        text-align: right;\n",
              "    }\n",
              "</style>\n",
              "<table border=\"1\" class=\"dataframe\">\n",
              "  <thead>\n",
              "    <tr style=\"text-align: right;\">\n",
              "      <th></th>\n",
              "      <th>Full_Name</th>\n",
              "      <th>ID</th>\n",
              "    </tr>\n",
              "  </thead>\n",
              "  <tbody>\n",
              "    <tr>\n",
              "      <th>0</th>\n",
              "      <td>Jack Carrozza</td>\n",
              "      <td>269592117</td>\n",
              "    </tr>\n",
              "    <tr>\n",
              "      <th>1</th>\n",
              "      <td>Leopoldo Coleman</td>\n",
              "      <td>566734298</td>\n",
              "    </tr>\n",
              "    <tr>\n",
              "      <th>2</th>\n",
              "      <td>Johnny Fletcher</td>\n",
              "      <td>823630074</td>\n",
              "    </tr>\n",
              "  </tbody>\n",
              "</table>\n",
              "</div>"
            ],
            "text/plain": [
              "          Full_Name         ID\n",
              "0     Jack Carrozza  269592117\n",
              "1  Leopoldo Coleman  566734298\n",
              "2   Johnny Fletcher  823630074"
            ]
          },
          "metadata": {},
          "execution_count": 92
        }
      ]
    }
  ]
}